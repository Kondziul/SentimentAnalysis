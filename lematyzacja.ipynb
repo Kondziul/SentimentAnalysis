{
 "cells": [
  {
   "cell_type": "code",
   "execution_count": 1,
   "metadata": {
    "collapsed": true,
    "ExecuteTime": {
     "end_time": "2025-01-06T23:09:33.384649100Z",
     "start_time": "2025-01-06T23:09:15.188794Z"
    }
   },
   "outputs": [],
   "source": [
    "import pandas as pd\n",
    "# Wczytanie oczyszczonego pliku\n",
    "file_path = \"filtered_mbsa_full_cleared_onlycleanedtext.csv\"\n",
    "data = pd.read_csv(file_path)\n",
    "# Zamiana NaN na pusty ciąg znaków\n",
    "data['text'] = data['text'].fillna('')\n",
    "\n",
    "# Upewnienie się, że wszystkie wartości w kolumnie 'text' są typu string\n",
    "data['text'] = data['text'].astype(str)"
   ]
  },
  {
   "cell_type": "code",
   "execution_count": 3,
   "outputs": [
    {
     "name": "stdout",
     "output_type": "stream",
     "text": [
      "Collecting en-core-web-sm==3.8.0\n",
      "  Downloading https://github.com/explosion/spacy-models/releases/download/en_core_web_sm-3.8.0/en_core_web_sm-3.8.0-py3-none-any.whl (12.8 MB)\n",
      "     --------------------------------------- 12.8/12.8 MB 54.4 MB/s eta 0:00:00\n",
      "Installing collected packages: en-core-web-sm\n",
      "Successfully installed en-core-web-sm-3.8.0\n",
      "\u001B[38;5;2m[+] Download and installation successful\u001B[0m\n",
      "You can now load the package via spacy.load('en_core_web_sm')\n"
     ]
    },
    {
     "name": "stderr",
     "output_type": "stream",
     "text": [
      "\n",
      "[notice] A new release of pip available: 22.3.1 -> 24.3.1\n",
      "[notice] To update, run: python.exe -m pip install --upgrade pip\n"
     ]
    }
   ],
   "source": [
    "!python -m spacy download en_core_web_sm"
   ],
   "metadata": {
    "collapsed": false,
    "ExecuteTime": {
     "end_time": "2025-01-06T23:10:07.729443700Z",
     "start_time": "2025-01-06T23:09:59.709504200Z"
    }
   }
  },
  {
   "cell_type": "code",
   "execution_count": 4,
   "outputs": [
    {
     "name": "stderr",
     "output_type": "stream",
     "text": [
      "100%|██████████| 12010575/12010575 [15:41:53<00:00, 212.53it/s]  \n"
     ]
    },
    {
     "name": "stdout",
     "output_type": "stream",
     "text": [
      "Lematyzowane dane zapisano do pliku: lemmatized_mbsa.csv\n"
     ]
    }
   ],
   "source": [
    "import spacy\n",
    "from tqdm import tqdm\n",
    "\n",
    "# Ładowanie modelu językowego SpaCy\n",
    "nlp = spacy.load(\"en_core_web_sm\")\n",
    "\n",
    "# Funkcja do lematyzacji\n",
    "def lemmatize_text(text):\n",
    "    doc = nlp(text)\n",
    "    lemmas = [token.lemma_ for token in doc if not token.is_stop and not token.is_punct]\n",
    "    return \" \".join(lemmas)\n",
    "\n",
    "# Inicjalizacja tqdm dla kolumny 'text'\n",
    "tqdm.pandas()\n",
    "\n",
    "# Przekształcenie kolumny 'text' za pomocą lematyzacji z paskiem postępu\n",
    "data['lemmatized_text'] = data['text'].progress_apply(lemmatize_text)\n",
    "\n",
    "# Zapis danych zlematyzowanych do nowego pliku\n",
    "output_file = \"lemmatized_mbsa.csv\"\n",
    "data.to_csv(output_file, index=False)\n",
    "print(f\"Lematyzowane dane zapisano do pliku: {output_file}\")"
   ],
   "metadata": {
    "collapsed": false,
    "ExecuteTime": {
     "end_time": "2025-01-07T14:52:58.433396500Z",
     "start_time": "2025-01-06T23:10:11.618252400Z"
    }
   }
  }
 ],
 "metadata": {
  "kernelspec": {
   "display_name": "Python 3",
   "language": "python",
   "name": "python3"
  },
  "language_info": {
   "codemirror_mode": {
    "name": "ipython",
    "version": 2
   },
   "file_extension": ".py",
   "mimetype": "text/x-python",
   "name": "python",
   "nbconvert_exporter": "python",
   "pygments_lexer": "ipython2",
   "version": "2.7.6"
  }
 },
 "nbformat": 4,
 "nbformat_minor": 0
}
