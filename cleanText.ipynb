{
 "cells": [
  {
   "cell_type": "code",
   "execution_count": null,
   "metadata": {
    "collapsed": true
   },
   "outputs": [],
   "source": [
    "import re\n",
    "import emoji\n",
    "\n",
    "def clean_textBERT(text):\n",
    "    # Remove URLs\n",
    "    text = re.sub(r\"http\\S+|www\\S+|https\\S+\", '', text, flags=re.MULTILINE)\n",
    "\n",
    "    # Replace user mentions with a placeholder\n",
    "    text = re.sub(r'@\\w+', '[USER]', text)\n",
    "\n",
    "    # Remove only the hashtag symbol while keeping the text\n",
    "    text = re.sub(r'#', '', text)\n",
    "\n",
    "    # Convert emojis to their textual descriptions\n",
    "    text = emoji.demojize(text)\n",
    "\n",
    "    # Replace contractions and common slangs (e.g., \"u\" → \"you\", \"idk\" → \"I don't know\")\n",
    "    slang_dict = {\n",
    "        \"u\": \"you\",\n",
    "        \"idk\": \"i don't know\",\n",
    "        \"btw\": \"by the way\",\n",
    "        \"omg\": \"oh my god\",\n",
    "        \"lol\": \"laughing out loud\"\n",
    "        # Add more as needed\n",
    "    }\n",
    "    text = ' '.join([slang_dict.get(word, word) for word in text.split()])\n",
    "\n",
    "    # Remove unwanted characters but keep letters, spaces, and emojis\n",
    "    text = re.sub(r'[^A-Za-z\\s]', '', text)\n",
    "\n",
    "    # Convert text to lowercase\n",
    "    text = text.lower()\n",
    "\n",
    "    # Remove extra spaces\n",
    "    text = re.sub(r'\\s+', ' ', text).strip()\n",
    "\n",
    "    return text\n",
    "\n",
    "def clean_textTF(text):\n",
    "    # Usuwanie adresów URL\n",
    "    text = re.sub(r\"http\\S+|www\\S+|https\\S+\", '', text, flags=re.MULTILINE)\n",
    "    # Usuwanie wzmianki użytkowników\n",
    "    text = re.sub(r'@\\w+', '', text)\n",
    "    # Usuwanie hashtagów\n",
    "    text = re.sub(r'#', '', text)\n",
    "    # Usuwanie znaków specjalnych i cyfr\n",
    "    text = re.sub(r'[^A-Za-z\\s]', '', text)\n",
    "    # Konwersja do małych liter\n",
    "    text = text.lower()\n",
    "    # Usuwanie nadmiarowych spacji\n",
    "    text = re.sub(r'\\s+', ' ', text).strip()\n",
    "    return text"
   ]
  }
 ],
 "metadata": {
  "kernelspec": {
   "display_name": "Python 3",
   "language": "python",
   "name": "python3"
  },
  "language_info": {
   "codemirror_mode": {
    "name": "ipython",
    "version": 2
   },
   "file_extension": ".py",
   "mimetype": "text/x-python",
   "name": "python",
   "nbconvert_exporter": "python",
   "pygments_lexer": "ipython2",
   "version": "2.7.6"
  }
 },
 "nbformat": 4,
 "nbformat_minor": 0
}
